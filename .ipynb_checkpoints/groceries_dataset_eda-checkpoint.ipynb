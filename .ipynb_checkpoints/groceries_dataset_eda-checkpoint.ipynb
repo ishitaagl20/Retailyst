{
 "cells": [
  {
   "cell_type": "markdown",
   "id": "04bb0720",
   "metadata": {
    "id": "04bb0720",
    "papermill": {
     "duration": 0.013722,
     "end_time": "2023-03-14T09:33:08.610771",
     "exception": false,
     "start_time": "2023-03-14T09:33:08.597049",
     "status": "completed"
    },
    "tags": []
   },
   "source": [
    "# Groceries Dataset Exploratory Data Analysis (EDA)"
   ]
  },
  {
   "cell_type": "markdown",
   "id": "0998caa1",
   "metadata": {
    "id": "0998caa1",
    "papermill": {
     "duration": 0.013777,
     "end_time": "2023-03-14T09:33:08.640643",
     "exception": false,
     "start_time": "2023-03-14T09:33:08.626866",
     "status": "completed"
    },
    "tags": []
   },
   "source": [
    "## Import Libraries"
   ]
  },
  {
   "cell_type": "code",
   "execution_count": 1,
   "id": "af775e99",
   "metadata": {
    "execution": {
     "iopub.execute_input": "2023-03-14T09:33:08.670879Z",
     "iopub.status.busy": "2023-03-14T09:33:08.670431Z",
     "iopub.status.idle": "2023-03-14T09:33:11.111204Z",
     "shell.execute_reply": "2023-03-14T09:33:11.110069Z"
    },
    "id": "af775e99",
    "papermill": {
     "duration": 2.459482,
     "end_time": "2023-03-14T09:33:11.114108",
     "exception": false,
     "start_time": "2023-03-14T09:33:08.654626",
     "status": "completed"
    },
    "tags": []
   },
   "outputs": [],
   "source": [
    "import pandas as pd\n",
    "import numpy as np\n",
    "\n",
    "import matplotlib.pyplot as plt\n",
    "import seaborn as sns\n",
    "import plotly.express as px\n",
    "\n",
    "from mlxtend.frequent_patterns import apriori, association_rules\n",
    "\n",
    "from pandas.api.types import CategoricalDtype\n",
    "\n",
    "from warnings import filterwarnings\n",
    "filterwarnings(\"ignore\")"
   ]
  },
  {
   "cell_type": "markdown",
   "id": "9f52b4f4",
   "metadata": {
    "execution": {
     "iopub.execute_input": "2022-06-30T05:57:41.265997Z",
     "iopub.status.busy": "2022-06-30T05:57:41.265524Z",
     "iopub.status.idle": "2022-06-30T05:57:41.272677Z",
     "shell.execute_reply": "2022-06-30T05:57:41.271001Z",
     "shell.execute_reply.started": "2022-06-30T05:57:41.265956Z"
    },
    "id": "9f52b4f4",
    "papermill": {
     "duration": 0.014146,
     "end_time": "2023-03-14T09:33:11.142789",
     "exception": false,
     "start_time": "2023-03-14T09:33:11.128643",
     "status": "completed"
    },
    "tags": []
   },
   "source": [
    "## Inspecting The Data"
   ]
  },
  {
   "cell_type": "code",
   "execution_count": 2,
   "id": "5296d770",
   "metadata": {
    "colab": {
     "base_uri": "https://localhost:8080/",
     "height": 206
    },
    "execution": {
     "iopub.execute_input": "2023-03-14T09:33:11.173293Z",
     "iopub.status.busy": "2023-03-14T09:33:11.172878Z",
     "iopub.status.idle": "2023-03-14T09:33:11.282083Z",
     "shell.execute_reply": "2023-03-14T09:33:11.280677Z"
    },
    "id": "5296d770",
    "outputId": "21491c31-ed08-4077-b326-898403970b31",
    "papermill": {
     "duration": 0.127848,
     "end_time": "2023-03-14T09:33:11.284896",
     "exception": false,
     "start_time": "2023-03-14T09:33:11.157048",
     "status": "completed"
    },
    "tags": []
   },
   "outputs": [
    {
     "ename": "FileNotFoundError",
     "evalue": "[Errno 2] No such file or directory: '/content/Groceries data.csv'",
     "output_type": "error",
     "traceback": [
      "\u001b[1;31m---------------------------------------------------------------------------\u001b[0m",
      "\u001b[1;31mFileNotFoundError\u001b[0m                         Traceback (most recent call last)",
      "\u001b[1;32m~\\AppData\\Local\\Temp\\ipykernel_14356\\2753932727.py\u001b[0m in \u001b[0;36m<module>\u001b[1;34m\u001b[0m\n\u001b[1;32m----> 1\u001b[1;33m \u001b[0mgroceries\u001b[0m\u001b[1;33m=\u001b[0m\u001b[0mpd\u001b[0m\u001b[1;33m.\u001b[0m\u001b[0mread_csv\u001b[0m\u001b[1;33m(\u001b[0m\u001b[1;34m'/content/Groceries data.csv'\u001b[0m\u001b[1;33m)\u001b[0m\u001b[1;33m\u001b[0m\u001b[1;33m\u001b[0m\u001b[0m\n\u001b[0m\u001b[0;32m      2\u001b[0m \u001b[0mgroceries\u001b[0m\u001b[1;33m.\u001b[0m\u001b[0mhead\u001b[0m\u001b[1;33m(\u001b[0m\u001b[1;33m)\u001b[0m\u001b[1;33m\u001b[0m\u001b[1;33m\u001b[0m\u001b[0m\n",
      "\u001b[1;32m~\\anaconda3\\lib\\site-packages\\pandas\\util\\_decorators.py\u001b[0m in \u001b[0;36mwrapper\u001b[1;34m(*args, **kwargs)\u001b[0m\n\u001b[0;32m    309\u001b[0m                     \u001b[0mstacklevel\u001b[0m\u001b[1;33m=\u001b[0m\u001b[0mstacklevel\u001b[0m\u001b[1;33m,\u001b[0m\u001b[1;33m\u001b[0m\u001b[1;33m\u001b[0m\u001b[0m\n\u001b[0;32m    310\u001b[0m                 )\n\u001b[1;32m--> 311\u001b[1;33m             \u001b[1;32mreturn\u001b[0m \u001b[0mfunc\u001b[0m\u001b[1;33m(\u001b[0m\u001b[1;33m*\u001b[0m\u001b[0margs\u001b[0m\u001b[1;33m,\u001b[0m \u001b[1;33m**\u001b[0m\u001b[0mkwargs\u001b[0m\u001b[1;33m)\u001b[0m\u001b[1;33m\u001b[0m\u001b[1;33m\u001b[0m\u001b[0m\n\u001b[0m\u001b[0;32m    312\u001b[0m \u001b[1;33m\u001b[0m\u001b[0m\n\u001b[0;32m    313\u001b[0m         \u001b[1;32mreturn\u001b[0m \u001b[0mwrapper\u001b[0m\u001b[1;33m\u001b[0m\u001b[1;33m\u001b[0m\u001b[0m\n",
      "\u001b[1;32m~\\anaconda3\\lib\\site-packages\\pandas\\io\\parsers\\readers.py\u001b[0m in \u001b[0;36mread_csv\u001b[1;34m(filepath_or_buffer, sep, delimiter, header, names, index_col, usecols, squeeze, prefix, mangle_dupe_cols, dtype, engine, converters, true_values, false_values, skipinitialspace, skiprows, skipfooter, nrows, na_values, keep_default_na, na_filter, verbose, skip_blank_lines, parse_dates, infer_datetime_format, keep_date_col, date_parser, dayfirst, cache_dates, iterator, chunksize, compression, thousands, decimal, lineterminator, quotechar, quoting, doublequote, escapechar, comment, encoding, encoding_errors, dialect, error_bad_lines, warn_bad_lines, on_bad_lines, delim_whitespace, low_memory, memory_map, float_precision, storage_options)\u001b[0m\n\u001b[0;32m    676\u001b[0m     \u001b[0mkwds\u001b[0m\u001b[1;33m.\u001b[0m\u001b[0mupdate\u001b[0m\u001b[1;33m(\u001b[0m\u001b[0mkwds_defaults\u001b[0m\u001b[1;33m)\u001b[0m\u001b[1;33m\u001b[0m\u001b[1;33m\u001b[0m\u001b[0m\n\u001b[0;32m    677\u001b[0m \u001b[1;33m\u001b[0m\u001b[0m\n\u001b[1;32m--> 678\u001b[1;33m     \u001b[1;32mreturn\u001b[0m \u001b[0m_read\u001b[0m\u001b[1;33m(\u001b[0m\u001b[0mfilepath_or_buffer\u001b[0m\u001b[1;33m,\u001b[0m \u001b[0mkwds\u001b[0m\u001b[1;33m)\u001b[0m\u001b[1;33m\u001b[0m\u001b[1;33m\u001b[0m\u001b[0m\n\u001b[0m\u001b[0;32m    679\u001b[0m \u001b[1;33m\u001b[0m\u001b[0m\n\u001b[0;32m    680\u001b[0m \u001b[1;33m\u001b[0m\u001b[0m\n",
      "\u001b[1;32m~\\anaconda3\\lib\\site-packages\\pandas\\io\\parsers\\readers.py\u001b[0m in \u001b[0;36m_read\u001b[1;34m(filepath_or_buffer, kwds)\u001b[0m\n\u001b[0;32m    573\u001b[0m \u001b[1;33m\u001b[0m\u001b[0m\n\u001b[0;32m    574\u001b[0m     \u001b[1;31m# Create the parser.\u001b[0m\u001b[1;33m\u001b[0m\u001b[1;33m\u001b[0m\u001b[0m\n\u001b[1;32m--> 575\u001b[1;33m     \u001b[0mparser\u001b[0m \u001b[1;33m=\u001b[0m \u001b[0mTextFileReader\u001b[0m\u001b[1;33m(\u001b[0m\u001b[0mfilepath_or_buffer\u001b[0m\u001b[1;33m,\u001b[0m \u001b[1;33m**\u001b[0m\u001b[0mkwds\u001b[0m\u001b[1;33m)\u001b[0m\u001b[1;33m\u001b[0m\u001b[1;33m\u001b[0m\u001b[0m\n\u001b[0m\u001b[0;32m    576\u001b[0m \u001b[1;33m\u001b[0m\u001b[0m\n\u001b[0;32m    577\u001b[0m     \u001b[1;32mif\u001b[0m \u001b[0mchunksize\u001b[0m \u001b[1;32mor\u001b[0m \u001b[0miterator\u001b[0m\u001b[1;33m:\u001b[0m\u001b[1;33m\u001b[0m\u001b[1;33m\u001b[0m\u001b[0m\n",
      "\u001b[1;32m~\\anaconda3\\lib\\site-packages\\pandas\\io\\parsers\\readers.py\u001b[0m in \u001b[0;36m__init__\u001b[1;34m(self, f, engine, **kwds)\u001b[0m\n\u001b[0;32m    930\u001b[0m \u001b[1;33m\u001b[0m\u001b[0m\n\u001b[0;32m    931\u001b[0m         \u001b[0mself\u001b[0m\u001b[1;33m.\u001b[0m\u001b[0mhandles\u001b[0m\u001b[1;33m:\u001b[0m \u001b[0mIOHandles\u001b[0m \u001b[1;33m|\u001b[0m \u001b[1;32mNone\u001b[0m \u001b[1;33m=\u001b[0m \u001b[1;32mNone\u001b[0m\u001b[1;33m\u001b[0m\u001b[1;33m\u001b[0m\u001b[0m\n\u001b[1;32m--> 932\u001b[1;33m         \u001b[0mself\u001b[0m\u001b[1;33m.\u001b[0m\u001b[0m_engine\u001b[0m \u001b[1;33m=\u001b[0m \u001b[0mself\u001b[0m\u001b[1;33m.\u001b[0m\u001b[0m_make_engine\u001b[0m\u001b[1;33m(\u001b[0m\u001b[0mf\u001b[0m\u001b[1;33m,\u001b[0m \u001b[0mself\u001b[0m\u001b[1;33m.\u001b[0m\u001b[0mengine\u001b[0m\u001b[1;33m)\u001b[0m\u001b[1;33m\u001b[0m\u001b[1;33m\u001b[0m\u001b[0m\n\u001b[0m\u001b[0;32m    933\u001b[0m \u001b[1;33m\u001b[0m\u001b[0m\n\u001b[0;32m    934\u001b[0m     \u001b[1;32mdef\u001b[0m \u001b[0mclose\u001b[0m\u001b[1;33m(\u001b[0m\u001b[0mself\u001b[0m\u001b[1;33m)\u001b[0m\u001b[1;33m:\u001b[0m\u001b[1;33m\u001b[0m\u001b[1;33m\u001b[0m\u001b[0m\n",
      "\u001b[1;32m~\\anaconda3\\lib\\site-packages\\pandas\\io\\parsers\\readers.py\u001b[0m in \u001b[0;36m_make_engine\u001b[1;34m(self, f, engine)\u001b[0m\n\u001b[0;32m   1214\u001b[0m             \u001b[1;31m# \"Union[str, PathLike[str], ReadCsvBuffer[bytes], ReadCsvBuffer[str]]\"\u001b[0m\u001b[1;33m\u001b[0m\u001b[1;33m\u001b[0m\u001b[0m\n\u001b[0;32m   1215\u001b[0m             \u001b[1;31m# , \"str\", \"bool\", \"Any\", \"Any\", \"Any\", \"Any\", \"Any\"\u001b[0m\u001b[1;33m\u001b[0m\u001b[1;33m\u001b[0m\u001b[0m\n\u001b[1;32m-> 1216\u001b[1;33m             self.handles = get_handle(  # type: ignore[call-overload]\n\u001b[0m\u001b[0;32m   1217\u001b[0m                 \u001b[0mf\u001b[0m\u001b[1;33m,\u001b[0m\u001b[1;33m\u001b[0m\u001b[1;33m\u001b[0m\u001b[0m\n\u001b[0;32m   1218\u001b[0m                 \u001b[0mmode\u001b[0m\u001b[1;33m,\u001b[0m\u001b[1;33m\u001b[0m\u001b[1;33m\u001b[0m\u001b[0m\n",
      "\u001b[1;32m~\\anaconda3\\lib\\site-packages\\pandas\\io\\common.py\u001b[0m in \u001b[0;36mget_handle\u001b[1;34m(path_or_buf, mode, encoding, compression, memory_map, is_text, errors, storage_options)\u001b[0m\n\u001b[0;32m    784\u001b[0m         \u001b[1;32mif\u001b[0m \u001b[0mioargs\u001b[0m\u001b[1;33m.\u001b[0m\u001b[0mencoding\u001b[0m \u001b[1;32mand\u001b[0m \u001b[1;34m\"b\"\u001b[0m \u001b[1;32mnot\u001b[0m \u001b[1;32min\u001b[0m \u001b[0mioargs\u001b[0m\u001b[1;33m.\u001b[0m\u001b[0mmode\u001b[0m\u001b[1;33m:\u001b[0m\u001b[1;33m\u001b[0m\u001b[1;33m\u001b[0m\u001b[0m\n\u001b[0;32m    785\u001b[0m             \u001b[1;31m# Encoding\u001b[0m\u001b[1;33m\u001b[0m\u001b[1;33m\u001b[0m\u001b[0m\n\u001b[1;32m--> 786\u001b[1;33m             handle = open(\n\u001b[0m\u001b[0;32m    787\u001b[0m                 \u001b[0mhandle\u001b[0m\u001b[1;33m,\u001b[0m\u001b[1;33m\u001b[0m\u001b[1;33m\u001b[0m\u001b[0m\n\u001b[0;32m    788\u001b[0m                 \u001b[0mioargs\u001b[0m\u001b[1;33m.\u001b[0m\u001b[0mmode\u001b[0m\u001b[1;33m,\u001b[0m\u001b[1;33m\u001b[0m\u001b[1;33m\u001b[0m\u001b[0m\n",
      "\u001b[1;31mFileNotFoundError\u001b[0m: [Errno 2] No such file or directory: '/content/Groceries data.csv'"
     ]
    }
   ],
   "source": [
    "groceries=pd.read_csv('/content/Groceries data.csv')\n",
    "groceries.head()"
   ]
  },
  {
   "cell_type": "code",
   "execution_count": null,
   "id": "981e53e7",
   "metadata": {
    "colab": {
     "base_uri": "https://localhost:8080/"
    },
    "execution": {
     "iopub.execute_input": "2023-03-14T09:33:11.316049Z",
     "iopub.status.busy": "2023-03-14T09:33:11.315392Z",
     "iopub.status.idle": "2023-03-14T09:33:11.348828Z",
     "shell.execute_reply": "2023-03-14T09:33:11.347124Z"
    },
    "id": "981e53e7",
    "outputId": "09952704-f0f9-49d9-8042-344422b7a258",
    "papermill": {
     "duration": 0.052822,
     "end_time": "2023-03-14T09:33:11.352168",
     "exception": false,
     "start_time": "2023-03-14T09:33:11.299346",
     "status": "completed"
    },
    "tags": []
   },
   "outputs": [],
   "source": [
    "groceries.info()"
   ]
  },
  {
   "cell_type": "markdown",
   "id": "6ac14033",
   "metadata": {
    "id": "6ac14033",
    "papermill": {
     "duration": 0.014154,
     "end_time": "2023-03-14T09:33:11.381284",
     "exception": false,
     "start_time": "2023-03-14T09:33:11.367130",
     "status": "completed"
    },
    "tags": []
   },
   "source": [
    "### Checking for Nulls"
   ]
  },
  {
   "cell_type": "code",
   "execution_count": null,
   "id": "677d3de0",
   "metadata": {
    "colab": {
     "base_uri": "https://localhost:8080/"
    },
    "execution": {
     "iopub.execute_input": "2023-03-14T09:33:11.412643Z",
     "iopub.status.busy": "2023-03-14T09:33:11.412237Z",
     "iopub.status.idle": "2023-03-14T09:33:11.426323Z",
     "shell.execute_reply": "2023-03-14T09:33:11.425072Z"
    },
    "id": "677d3de0",
    "outputId": "673035fc-9b62-4b94-c5d3-72da690eb919",
    "papermill": {
     "duration": 0.033076,
     "end_time": "2023-03-14T09:33:11.428929",
     "exception": false,
     "start_time": "2023-03-14T09:33:11.395853",
     "status": "completed"
    },
    "tags": []
   },
   "outputs": [],
   "source": [
    "groceries.isna().sum()"
   ]
  },
  {
   "cell_type": "markdown",
   "id": "7e05cbdc",
   "metadata": {
    "id": "7e05cbdc",
    "papermill": {
     "duration": 0.014404,
     "end_time": "2023-03-14T09:33:11.457766",
     "exception": false,
     "start_time": "2023-03-14T09:33:11.443362",
     "status": "completed"
    },
    "tags": []
   },
   "source": [
    "### General Description of Dataset"
   ]
  },
  {
   "cell_type": "code",
   "execution_count": null,
   "id": "d35e00fc",
   "metadata": {
    "colab": {
     "base_uri": "https://localhost:8080/",
     "height": 394
    },
    "execution": {
     "iopub.execute_input": "2023-03-14T09:33:11.488480Z",
     "iopub.status.busy": "2023-03-14T09:33:11.488063Z",
     "iopub.status.idle": "2023-03-14T09:33:11.519725Z",
     "shell.execute_reply": "2023-03-14T09:33:11.518720Z"
    },
    "id": "d35e00fc",
    "outputId": "df29ea91-02bb-4193-e73e-b070d50b691c",
    "papermill": {
     "duration": 0.049961,
     "end_time": "2023-03-14T09:33:11.522092",
     "exception": false,
     "start_time": "2023-03-14T09:33:11.472131",
     "status": "completed"
    },
    "tags": []
   },
   "outputs": [],
   "source": [
    "groceries.describe(include='all')"
   ]
  },
  {
   "cell_type": "markdown",
   "id": "03fe5571",
   "metadata": {
    "id": "03fe5571",
    "papermill": {
     "duration": 0.015094,
     "end_time": "2023-03-14T09:33:11.552201",
     "exception": false,
     "start_time": "2023-03-14T09:33:11.537107",
     "status": "completed"
    },
    "tags": []
   },
   "source": [
    "### Changing Column Data Types"
   ]
  },
  {
   "cell_type": "code",
   "execution_count": null,
   "id": "5ff673f6",
   "metadata": {
    "colab": {
     "base_uri": "https://localhost:8080/"
    },
    "execution": {
     "iopub.execute_input": "2023-03-14T09:33:11.585297Z",
     "iopub.status.busy": "2023-03-14T09:33:11.584120Z",
     "iopub.status.idle": "2023-03-14T09:33:11.616471Z",
     "shell.execute_reply": "2023-03-14T09:33:11.615131Z"
    },
    "id": "5ff673f6",
    "outputId": "45c3d3d7-a7ce-4556-bd5c-e3b8ca9ef8ba",
    "papermill": {
     "duration": 0.05323,
     "end_time": "2023-03-14T09:33:11.620619",
     "exception": false,
     "start_time": "2023-03-14T09:33:11.567389",
     "status": "completed"
    },
    "tags": []
   },
   "outputs": [],
   "source": [
    "groceries['Date']=pd.to_datetime(groceries['Date'])\n",
    "groceries['Member_number']= groceries['Member_number'].astype('object')\n",
    "groceries.info()"
   ]
  },
  {
   "cell_type": "markdown",
   "id": "2b50c803",
   "metadata": {
    "id": "2b50c803",
    "papermill": {
     "duration": 0.014597,
     "end_time": "2023-03-14T09:33:11.651743",
     "exception": false,
     "start_time": "2023-03-14T09:33:11.637146",
     "status": "completed"
    },
    "tags": []
   },
   "source": [
    "### Date Range of Dataset"
   ]
  },
  {
   "cell_type": "code",
   "execution_count": null,
   "id": "070593bc",
   "metadata": {
    "colab": {
     "base_uri": "https://localhost:8080/",
     "height": 36
    },
    "execution": {
     "iopub.execute_input": "2023-03-14T09:33:11.683483Z",
     "iopub.status.busy": "2023-03-14T09:33:11.682658Z",
     "iopub.status.idle": "2023-03-14T09:33:11.725456Z",
     "shell.execute_reply": "2023-03-14T09:33:11.724115Z"
    },
    "id": "070593bc",
    "outputId": "30b2ecac-a444-4be1-b644-d45edeb63d96",
    "papermill": {
     "duration": 0.061666,
     "end_time": "2023-03-14T09:33:11.728275",
     "exception": false,
     "start_time": "2023-03-14T09:33:11.666609",
     "status": "completed"
    },
    "tags": []
   },
   "outputs": [],
   "source": [
    "str(groceries['Date'].dt.date.min()) + '  to  ' +str(groceries['Date'].dt.date.max())"
   ]
  },
  {
   "cell_type": "markdown",
   "id": "13b4c981",
   "metadata": {
    "id": "13b4c981",
    "papermill": {
     "duration": 0.014574,
     "end_time": "2023-03-14T09:33:11.759281",
     "exception": false,
     "start_time": "2023-03-14T09:33:11.744707",
     "status": "completed"
    },
    "tags": []
   },
   "source": [
    "### Checking for Duplicates"
   ]
  },
  {
   "cell_type": "code",
   "execution_count": null,
   "id": "40b4ebec",
   "metadata": {
    "colab": {
     "base_uri": "https://localhost:8080/"
    },
    "execution": {
     "iopub.execute_input": "2023-03-14T09:33:11.791418Z",
     "iopub.status.busy": "2023-03-14T09:33:11.790974Z",
     "iopub.status.idle": "2023-03-14T09:33:11.809193Z",
     "shell.execute_reply": "2023-03-14T09:33:11.807698Z"
    },
    "id": "40b4ebec",
    "outputId": "0d76a087-b90e-45fa-d99a-8a9902285eb7",
    "papermill": {
     "duration": 0.037417,
     "end_time": "2023-03-14T09:33:11.811728",
     "exception": false,
     "start_time": "2023-03-14T09:33:11.774311",
     "status": "completed"
    },
    "tags": []
   },
   "outputs": [],
   "source": [
    "groceries.duplicated(keep='first').sum()"
   ]
  },
  {
   "cell_type": "markdown",
   "id": "b36b1b37",
   "metadata": {
    "id": "b36b1b37",
    "papermill": {
     "duration": 0.015146,
     "end_time": "2023-03-14T09:33:11.841931",
     "exception": false,
     "start_time": "2023-03-14T09:33:11.826785",
     "status": "completed"
    },
    "tags": []
   },
   "source": [
    "There are 759 potential duplicates identified. More investigation needs to be done."
   ]
  },
  {
   "cell_type": "code",
   "execution_count": null,
   "id": "bd7c0c76",
   "metadata": {
    "colab": {
     "base_uri": "https://localhost:8080/",
     "height": 423
    },
    "execution": {
     "iopub.execute_input": "2023-03-14T09:33:11.873730Z",
     "iopub.status.busy": "2023-03-14T09:33:11.873256Z",
     "iopub.status.idle": "2023-03-14T09:33:11.904765Z",
     "shell.execute_reply": "2023-03-14T09:33:11.903496Z"
    },
    "id": "bd7c0c76",
    "outputId": "fb259e12-66ad-4b23-e5d7-f52666f164db",
    "papermill": {
     "duration": 0.050578,
     "end_time": "2023-03-14T09:33:11.907533",
     "exception": false,
     "start_time": "2023-03-14T09:33:11.856955",
     "status": "completed"
    },
    "tags": []
   },
   "outputs": [],
   "source": [
    "groceries[groceries.duplicated(keep=False)].sort_values(by='Member_number')"
   ]
  },
  {
   "cell_type": "code",
   "execution_count": null,
   "id": "a61d729b",
   "metadata": {
    "colab": {
     "base_uri": "https://localhost:8080/",
     "height": 423
    },
    "execution": {
     "iopub.execute_input": "2023-03-14T09:33:11.941286Z",
     "iopub.status.busy": "2023-03-14T09:33:11.940852Z",
     "iopub.status.idle": "2023-03-14T09:33:11.983957Z",
     "shell.execute_reply": "2023-03-14T09:33:11.982732Z"
    },
    "id": "a61d729b",
    "outputId": "557fbd14-ff77-409f-8be3-56b2c25e076a",
    "papermill": {
     "duration": 0.062766,
     "end_time": "2023-03-14T09:33:11.986873",
     "exception": false,
     "start_time": "2023-03-14T09:33:11.924107",
     "status": "completed"
    },
    "tags": []
   },
   "outputs": [],
   "source": [
    "groceries[groceries.duplicated(keep=False)].groupby(['Member_number','Date','itemDescription'],as_index=False).agg(DuplicateCount=('itemDescription','count')).sort_values(by='Member_number')"
   ]
  },
  {
   "cell_type": "markdown",
   "id": "55a8b07c",
   "metadata": {
    "execution": {
     "iopub.execute_input": "2022-07-18T10:49:15.001164Z",
     "iopub.status.busy": "2022-07-18T10:49:15.000707Z",
     "iopub.status.idle": "2022-07-18T10:49:15.010146Z",
     "shell.execute_reply": "2022-07-18T10:49:15.008147Z",
     "shell.execute_reply.started": "2022-07-18T10:49:15.001130Z"
    },
    "id": "55a8b07c",
    "papermill": {
     "duration": 0.015415,
     "end_time": "2023-03-14T09:33:12.018557",
     "exception": false,
     "start_time": "2023-03-14T09:33:12.003142",
     "status": "completed"
    },
    "tags": []
   },
   "source": [
    "**The tables above show potential duplicates. Though Member_number is a unique identifier,\n",
    "there is no data indicating that the potential duplicates are from the same invoice.\n",
    "Therefore,we proceed with the EDA.**"
   ]
  },
  {
   "cell_type": "markdown",
   "id": "68c3fe1f",
   "metadata": {
    "id": "68c3fe1f",
    "papermill": {
     "duration": 0.015973,
     "end_time": "2023-03-14T09:33:12.050798",
     "exception": false,
     "start_time": "2023-03-14T09:33:12.034825",
     "status": "completed"
    },
    "tags": []
   },
   "source": [
    "### Adding Columns To Aid in EDA"
   ]
  },
  {
   "cell_type": "code",
   "execution_count": null,
   "id": "hHMSOpPCKUK4",
   "metadata": {
    "colab": {
     "base_uri": "https://localhost:8080/",
     "height": 206
    },
    "id": "hHMSOpPCKUK4",
    "outputId": "ac2efea9-52fa-4b2f-9c84-b0e4c1624545"
   },
   "outputs": [],
   "source": [
    "groceries['Weekdays'],groceries['Days'],groceries['Months'],groceries['Years']= groceries.Date.dt.strftime('%A'),groceries.Date.dt.strftime('%d'),groceries.Date.dt.strftime('%b'),groceries.Date.dt.strftime('%Y')\n",
    "groceries.head()"
   ]
  },
  {
   "cell_type": "markdown",
   "id": "ea834625",
   "metadata": {
    "id": "ea834625",
    "papermill": {
     "duration": 0.015429,
     "end_time": "2023-03-14T09:33:12.916917",
     "exception": false,
     "start_time": "2023-03-14T09:33:12.901488",
     "status": "completed"
    },
    "tags": []
   },
   "source": [
    "### Number of Products in Dataset"
   ]
  },
  {
   "cell_type": "code",
   "execution_count": null,
   "id": "654eacf9",
   "metadata": {
    "colab": {
     "base_uri": "https://localhost:8080/"
    },
    "execution": {
     "iopub.execute_input": "2023-03-14T09:33:12.951749Z",
     "iopub.status.busy": "2023-03-14T09:33:12.951255Z",
     "iopub.status.idle": "2023-03-14T09:33:12.962459Z",
     "shell.execute_reply": "2023-03-14T09:33:12.961152Z"
    },
    "id": "654eacf9",
    "outputId": "bbd7f9d3-4938-4374-92d7-535728b3e242",
    "papermill": {
     "duration": 0.03171,
     "end_time": "2023-03-14T09:33:12.965077",
     "exception": false,
     "start_time": "2023-03-14T09:33:12.933367",
     "status": "completed"
    },
    "tags": []
   },
   "outputs": [],
   "source": [
    "groceries['itemDescription'].nunique()"
   ]
  },
  {
   "cell_type": "markdown",
   "id": "6c7e0bb7",
   "metadata": {
    "id": "6c7e0bb7",
    "papermill": {
     "duration": 0.016985,
     "end_time": "2023-03-14T09:33:12.998506",
     "exception": false,
     "start_time": "2023-03-14T09:33:12.981521",
     "status": "completed"
    },
    "tags": []
   },
   "source": [
    "### Number of Customers"
   ]
  },
  {
   "cell_type": "code",
   "execution_count": null,
   "id": "1dd2f1dc",
   "metadata": {
    "colab": {
     "base_uri": "https://localhost:8080/"
    },
    "execution": {
     "iopub.execute_input": "2023-03-14T09:33:13.033542Z",
     "iopub.status.busy": "2023-03-14T09:33:13.033066Z",
     "iopub.status.idle": "2023-03-14T09:33:13.043502Z",
     "shell.execute_reply": "2023-03-14T09:33:13.042117Z"
    },
    "id": "1dd2f1dc",
    "outputId": "751391a5-0d80-46da-d50e-8a91090ea66a",
    "papermill": {
     "duration": 0.031161,
     "end_time": "2023-03-14T09:33:13.046313",
     "exception": false,
     "start_time": "2023-03-14T09:33:13.015152",
     "status": "completed"
    },
    "tags": []
   },
   "outputs": [],
   "source": [
    "groceries['Member_number'].nunique()"
   ]
  },
  {
   "cell_type": "markdown",
   "id": "0fd6f275",
   "metadata": {
    "id": "0fd6f275",
    "papermill": {
     "duration": 0.015801,
     "end_time": "2023-03-14T09:33:13.079489",
     "exception": false,
     "start_time": "2023-03-14T09:33:13.063688",
     "status": "completed"
    },
    "tags": []
   },
   "source": [
    "### Top 10 Products Sold"
   ]
  },
  {
   "cell_type": "code",
   "execution_count": null,
   "id": "cd11c328",
   "metadata": {
    "colab": {
     "base_uri": "https://localhost:8080/",
     "height": 542
    },
    "execution": {
     "iopub.execute_input": "2023-03-14T09:33:13.115214Z",
     "iopub.status.busy": "2023-03-14T09:33:13.114808Z",
     "iopub.status.idle": "2023-03-14T09:33:14.476420Z",
     "shell.execute_reply": "2023-03-14T09:33:14.475442Z"
    },
    "id": "cd11c328",
    "outputId": "4ddd1901-6522-440c-fcc0-ae6334ff5c1a",
    "papermill": {
     "duration": 1.382474,
     "end_time": "2023-03-14T09:33:14.478891",
     "exception": false,
     "start_time": "2023-03-14T09:33:13.096417",
     "status": "completed"
    },
    "tags": []
   },
   "outputs": [],
   "source": [
    "# Using the value_counts function here. While for Top 10 Customers the groupby function was used.\n",
    "# In this particular scenario both get the job done, but the value_counts function is simpler.\n",
    "\n",
    "Top10Groceries=groceries.itemDescription.value_counts().sort_values(ascending=False)[0:10]\n",
    "\n",
    "fig=px.bar(Top10Groceries,color=Top10Groceries.index,\n",
    "           labels={'value':'Quantity Sold','index':'Grocery Items'})\n",
    "fig.update_layout(showlegend=False,\n",
    "                 title_text='Top 10 Groceries Sold',title_x=0.5,\n",
    "                 title={'font': {'size':20}} )\n",
    "fig.show()"
   ]
  },
  {
   "cell_type": "markdown",
   "id": "a4e394d1",
   "metadata": {
    "id": "a4e394d1",
    "papermill": {
     "duration": 0.016208,
     "end_time": "2023-03-14T09:33:14.512004",
     "exception": false,
     "start_time": "2023-03-14T09:33:14.495796",
     "status": "completed"
    },
    "tags": []
   },
   "source": [
    "### Top 10 Customer (Number of Items Bought)"
   ]
  },
  {
   "cell_type": "code",
   "execution_count": null,
   "id": "13b13e3a",
   "metadata": {
    "colab": {
     "base_uri": "https://localhost:8080/",
     "height": 611
    },
    "execution": {
     "iopub.execute_input": "2023-03-14T09:33:14.547715Z",
     "iopub.status.busy": "2023-03-14T09:33:14.547242Z",
     "iopub.status.idle": "2023-03-14T09:33:14.861785Z",
     "shell.execute_reply": "2023-03-14T09:33:14.860440Z"
    },
    "id": "13b13e3a",
    "outputId": "e2396e24-8b26-49c1-8233-bd5d3fd53262",
    "papermill": {
     "duration": 0.335657,
     "end_time": "2023-03-14T09:33:14.864553",
     "exception": false,
     "start_time": "2023-03-14T09:33:14.528896",
     "status": "completed"
    },
    "tags": []
   },
   "outputs": [],
   "source": [
    "Top10Customers=groceries.groupby('Member_number').agg(PurchaseQuantity=('itemDescription','count')).sort_values(by='PurchaseQuantity',ascending=False)[0:10]\n",
    "\n",
    "Top10Customers.plot(kind='bar',figsize=(15,7),legend=None)\n",
    "plt.title('Top 10 Customers',fontsize=20)\n",
    "plt.xlabel('Customer Number',fontsize=15)\n",
    "plt.ylabel('Purchase Quantity',fontsize=15)\n",
    "plt.show()"
   ]
  },
  {
   "cell_type": "markdown",
   "id": "2a654e96",
   "metadata": {
    "id": "2a654e96",
    "papermill": {
     "duration": 0.017866,
     "end_time": "2023-03-14T09:33:14.899316",
     "exception": false,
     "start_time": "2023-03-14T09:33:14.881450",
     "status": "completed"
    },
    "tags": []
   },
   "source": [
    "## Time Series Analysis"
   ]
  },
  {
   "cell_type": "code",
   "execution_count": null,
   "id": "389a3596",
   "metadata": {
    "execution": {
     "iopub.execute_input": "2023-03-14T09:33:14.935670Z",
     "iopub.status.busy": "2023-03-14T09:33:14.935236Z",
     "iopub.status.idle": "2023-03-14T09:33:14.941489Z",
     "shell.execute_reply": "2023-03-14T09:33:14.940166Z"
    },
    "id": "389a3596",
    "papermill": {
     "duration": 0.027206,
     "end_time": "2023-03-14T09:33:14.943990",
     "exception": false,
     "start_time": "2023-03-14T09:33:14.916784",
     "status": "completed"
    },
    "tags": []
   },
   "outputs": [],
   "source": [
    "groceries.set_index('Date',inplace=True)"
   ]
  },
  {
   "cell_type": "markdown",
   "id": "6a326595",
   "metadata": {
    "id": "6a326595",
    "papermill": {
     "duration": 0.017122,
     "end_time": "2023-03-14T09:33:14.978059",
     "exception": false,
     "start_time": "2023-03-14T09:33:14.960937",
     "status": "completed"
    },
    "tags": []
   },
   "source": [
    "### Daily Sales"
   ]
  },
  {
   "cell_type": "code",
   "execution_count": null,
   "id": "e848b6c9",
   "metadata": {
    "colab": {
     "base_uri": "https://localhost:8080/",
     "height": 464
    },
    "execution": {
     "iopub.execute_input": "2023-03-14T09:33:15.016606Z",
     "iopub.status.busy": "2023-03-14T09:33:15.016169Z",
     "iopub.status.idle": "2023-03-14T09:33:15.402083Z",
     "shell.execute_reply": "2023-03-14T09:33:15.400668Z"
    },
    "id": "e848b6c9",
    "outputId": "71a7a072-ceea-40fd-f64d-da5df05dff73",
    "papermill": {
     "duration": 0.410023,
     "end_time": "2023-03-14T09:33:15.405808",
     "exception": false,
     "start_time": "2023-03-14T09:33:14.995785",
     "status": "completed"
    },
    "tags": []
   },
   "outputs": [],
   "source": [
    "groceries.resample('D')[['itemDescription']].count().plot(kind='line',figsize=(15,5),legend=None)\n",
    "plt.title('Daily Sales- 2014 to 2015',fontsize=20)\n",
    "plt.xlabel('Date',fontsize=14)\n",
    "plt.ylabel('Daily Sales',fontsize=14)\n",
    "plt.show()"
   ]
  },
  {
   "cell_type": "code",
   "execution_count": null,
   "id": "TLo64bYw_mru",
   "metadata": {
    "colab": {
     "base_uri": "https://localhost:8080/",
     "height": 518
    },
    "id": "TLo64bYw_mru",
    "outputId": "2d4ce7ce-a4a2-44c9-9505-bd06a3ebe06d"
   },
   "outputs": [],
   "source": [
    "daily_sales = groceries.groupby(['Date', 'itemDescription']).size().unstack().resample('D').count()\n",
    "\n",
    "plt.figure(figsize=(15, 5))\n",
    "daily_sales.plot(kind='line', legend=False)\n",
    "plt.title('Daily Sales by Item Description', fontsize=20)\n",
    "plt.xlabel('Date', fontsize=14)\n",
    "plt.ylabel('Daily Sales', fontsize=14)\n",
    "plt.show()\n"
   ]
  },
  {
   "cell_type": "markdown",
   "id": "6df15cba",
   "metadata": {
    "id": "6df15cba",
    "papermill": {
     "duration": 0.018294,
     "end_time": "2023-03-14T09:33:15.444274",
     "exception": false,
     "start_time": "2023-03-14T09:33:15.425980",
     "status": "completed"
    },
    "tags": []
   },
   "source": [
    "### Monthly Sales- 2014 to 2015"
   ]
  },
  {
   "cell_type": "code",
   "execution_count": null,
   "id": "fbe6a25e",
   "metadata": {
    "colab": {
     "base_uri": "https://localhost:8080/",
     "height": 598
    },
    "execution": {
     "iopub.execute_input": "2023-03-14T09:33:15.487210Z",
     "iopub.status.busy": "2023-03-14T09:33:15.486791Z",
     "iopub.status.idle": "2023-03-14T09:33:15.818196Z",
     "shell.execute_reply": "2023-03-14T09:33:15.817324Z"
    },
    "id": "fbe6a25e",
    "outputId": "5cafae51-0730-48a5-d798-65be088fcdb0",
    "papermill": {
     "duration": 0.357542,
     "end_time": "2023-03-14T09:33:15.820290",
     "exception": false,
     "start_time": "2023-03-14T09:33:15.462748",
     "status": "completed"
    },
    "tags": []
   },
   "outputs": [],
   "source": [
    "groceries.resample('M')[['itemDescription']].count().plot(kind='line',figsize=(15,7),legend=None )\n",
    "plt.title('Monthly Sales- 2014 to 2015',fontsize=20)\n",
    "plt.xlabel('Date',fontsize=14)\n",
    "plt.ylabel('Monthly Sales',fontsize=14)\n",
    "plt.show()"
   ]
  },
  {
   "cell_type": "markdown",
   "id": "483d593e",
   "metadata": {
    "id": "483d593e",
    "papermill": {
     "duration": 0.01883,
     "end_time": "2023-03-14T09:33:15.859076",
     "exception": false,
     "start_time": "2023-03-14T09:33:15.840246",
     "status": "completed"
    },
    "tags": []
   },
   "source": [
    "#### Lets Have a Different View of the above Monthly Purchases- 2014 to 2015 Graph, to better compare the two years."
   ]
  },
  {
   "cell_type": "code",
   "execution_count": null,
   "id": "e46538cf",
   "metadata": {
    "colab": {
     "base_uri": "https://localhost:8080/",
     "height": 206
    },
    "execution": {
     "iopub.execute_input": "2023-03-14T09:33:15.900914Z",
     "iopub.status.busy": "2023-03-14T09:33:15.899871Z",
     "iopub.status.idle": "2023-03-14T09:33:15.927769Z",
     "shell.execute_reply": "2023-03-14T09:33:15.926586Z"
    },
    "id": "e46538cf",
    "outputId": "f868b932-8e0f-4a3a-fda2-d5f5ae294868",
    "papermill": {
     "duration": 0.051623,
     "end_time": "2023-03-14T09:33:15.930318",
     "exception": false,
     "start_time": "2023-03-14T09:33:15.878695",
     "status": "completed"
    },
    "tags": []
   },
   "outputs": [],
   "source": [
    "temp=groceries.groupby(['Years','Months'],as_index=False).agg(Sales=('itemDescription','count'))\n",
    "temp.head()"
   ]
  },
  {
   "cell_type": "code",
   "execution_count": null,
   "id": "199fa06a",
   "metadata": {
    "colab": {
     "base_uri": "https://localhost:8080/",
     "height": 542
    },
    "execution": {
     "iopub.execute_input": "2023-03-14T09:33:15.971992Z",
     "iopub.status.busy": "2023-03-14T09:33:15.971548Z",
     "iopub.status.idle": "2023-03-14T09:33:16.077437Z",
     "shell.execute_reply": "2023-03-14T09:33:16.075880Z"
    },
    "id": "199fa06a",
    "outputId": "2b0ac5fd-7c5b-4a56-9bd9-83ed8a906ef7",
    "papermill": {
     "duration": 0.130306,
     "end_time": "2023-03-14T09:33:16.080548",
     "exception": false,
     "start_time": "2023-03-14T09:33:15.950242",
     "status": "completed"
    },
    "tags": []
   },
   "outputs": [],
   "source": [
    "order_months=CategoricalDtype(['Jan','Feb','Mar','Apr','May','Jun','Jul','Aug','Sep','Oct','Nov','Dec'])\n",
    "temp['Months']=temp['Months'].astype(order_months)\n",
    "temp=temp.sort_values(by='Months')\n",
    "fig=px.line(temp,x='Months',y='Sales',color='Years')\n",
    "fig.update_layout(title_text='Monthly Sales- 2014 to 2015',title_x=0.5,\n",
    "                 title={'font': {'size':20}})"
   ]
  },
  {
   "cell_type": "markdown",
   "id": "1dcb7ed4",
   "metadata": {
    "id": "1dcb7ed4",
    "papermill": {
     "duration": 0.019203,
     "end_time": "2023-03-14T09:33:16.119664",
     "exception": false,
     "start_time": "2023-03-14T09:33:16.100461",
     "status": "completed"
    },
    "tags": []
   },
   "source": [
    "### Weekday Sales"
   ]
  },
  {
   "cell_type": "code",
   "execution_count": null,
   "id": "dbf258ab",
   "metadata": {
    "colab": {
     "base_uri": "https://localhost:8080/",
     "height": 542
    },
    "execution": {
     "iopub.execute_input": "2023-03-14T09:33:16.162615Z",
     "iopub.status.busy": "2023-03-14T09:33:16.162191Z",
     "iopub.status.idle": "2023-03-14T09:33:16.259214Z",
     "shell.execute_reply": "2023-03-14T09:33:16.258042Z"
    },
    "id": "dbf258ab",
    "outputId": "8604eb1d-b776-49af-b6d6-437eab390705",
    "papermill": {
     "duration": 0.121609,
     "end_time": "2023-03-14T09:33:16.261801",
     "exception": false,
     "start_time": "2023-03-14T09:33:16.140192",
     "status": "completed"
    },
    "tags": []
   },
   "outputs": [],
   "source": [
    "temp2=groceries.groupby(['Years','Weekdays'],as_index=False).agg(Sales=('itemDescription','count'))\n",
    "\n",
    "order_days=CategoricalDtype(['Monday','Tuesday','Wednesday','Thursday','Friday','Saturday','Sunday'])\n",
    "temp2['Weekdays']=temp2['Weekdays'].astype(order_days)\n",
    "temp2=temp2.sort_values(by='Weekdays')\n",
    "\n",
    "fig=px.line(temp2,x='Weekdays',y='Sales',color='Years')\n",
    "fig.update_layout(title_text='Weekday Sales- 2014 to 2015',title_x=0.5,\n",
    "                 title={'font': {'size':20}})"
   ]
  },
  {
   "cell_type": "markdown",
   "id": "8841a21a",
   "metadata": {
    "id": "8841a21a",
    "papermill": {
     "duration": 0.019806,
     "end_time": "2023-03-14T09:33:16.302511",
     "exception": false,
     "start_time": "2023-03-14T09:33:16.282705",
     "status": "completed"
    },
    "tags": []
   },
   "source": [
    "### Sales Per Days of the Month"
   ]
  },
  {
   "cell_type": "code",
   "execution_count": null,
   "id": "74000b64",
   "metadata": {
    "colab": {
     "base_uri": "https://localhost:8080/",
     "height": 542
    },
    "execution": {
     "iopub.execute_input": "2023-03-14T09:33:16.344374Z",
     "iopub.status.busy": "2023-03-14T09:33:16.343945Z",
     "iopub.status.idle": "2023-03-14T09:33:16.435500Z",
     "shell.execute_reply": "2023-03-14T09:33:16.434648Z"
    },
    "id": "74000b64",
    "outputId": "46d73134-93ee-4dd4-a398-efded4ea897a",
    "papermill": {
     "duration": 0.115902,
     "end_time": "2023-03-14T09:33:16.438339",
     "exception": false,
     "start_time": "2023-03-14T09:33:16.322437",
     "status": "completed"
    },
    "tags": []
   },
   "outputs": [],
   "source": [
    "temp3=groceries.groupby(['Years','Days'],as_index=False).agg(Sales=('itemDescription','count'))\n",
    "\n",
    "fig=px.line(temp3,x='Days',y='Sales',color='Years')\n",
    "fig.update_layout(title_text='Sales Per Days of the Month',title_x=0.5,\n",
    "                 title={'font':{'size':20}})\n",
    "fig.show()"
   ]
  },
  {
   "cell_type": "markdown",
   "id": "eb63d4b1",
   "metadata": {
    "id": "eb63d4b1",
    "papermill": {
     "duration": 0.021035,
     "end_time": "2023-03-14T09:33:16.480967",
     "exception": false,
     "start_time": "2023-03-14T09:33:16.459932",
     "status": "completed"
    },
    "tags": []
   },
   "source": [
    "### Total Unique Customers Per Week"
   ]
  },
  {
   "cell_type": "code",
   "execution_count": null,
   "id": "40fe9814",
   "metadata": {
    "colab": {
     "base_uri": "https://localhost:8080/",
     "height": 542
    },
    "execution": {
     "iopub.execute_input": "2023-03-14T09:33:16.524646Z",
     "iopub.status.busy": "2023-03-14T09:33:16.524210Z",
     "iopub.status.idle": "2023-03-14T09:33:16.623537Z",
     "shell.execute_reply": "2023-03-14T09:33:16.622497Z"
    },
    "id": "40fe9814",
    "outputId": "fa9fc83f-a3e0-469a-9653-8f06644abff7",
    "papermill": {
     "duration": 0.123614,
     "end_time": "2023-03-14T09:33:16.625998",
     "exception": false,
     "start_time": "2023-03-14T09:33:16.502384",
     "status": "completed"
    },
    "tags": []
   },
   "outputs": [],
   "source": [
    "temp4= groceries.groupby(['Years','Weekdays'],as_index=False).agg(DailyCustomers=('Member_number','nunique'))\n",
    "\n",
    "order_days=CategoricalDtype(['Monday','Tuesday','Wednesday','Thursday','Friday','Saturday','Sunday'])\n",
    "temp4['Weekdays']=temp4['Weekdays'].astype(order_days)\n",
    "temp4=temp4.sort_values(by='Weekdays')\n",
    "\n",
    "fig=px.line(temp4,x='Weekdays',y='DailyCustomers',color='Years')\n",
    "fig.update_layout(title_text='Weekday Customers- 2014 & 2015',title_x=0.5,\n",
    "                 title={'font': {'size':20}})"
   ]
  },
  {
   "cell_type": "markdown",
   "id": "38610df3",
   "metadata": {
    "id": "38610df3",
    "papermill": {
     "duration": 0.020542,
     "end_time": "2023-03-14T09:33:16.667197",
     "exception": false,
     "start_time": "2023-03-14T09:33:16.646655",
     "status": "completed"
    },
    "tags": []
   },
   "source": [
    "### Average Number of Unique Customers Per Weekday"
   ]
  },
  {
   "cell_type": "code",
   "execution_count": null,
   "id": "7c1570e3",
   "metadata": {
    "execution": {
     "iopub.execute_input": "2023-03-14T09:33:16.711170Z",
     "iopub.status.busy": "2023-03-14T09:33:16.710780Z",
     "iopub.status.idle": "2023-03-14T09:33:16.720128Z",
     "shell.execute_reply": "2023-03-14T09:33:16.718998Z"
    },
    "id": "7c1570e3",
    "papermill": {
     "duration": 0.034629,
     "end_time": "2023-03-14T09:33:16.722918",
     "exception": false,
     "start_time": "2023-03-14T09:33:16.688289",
     "status": "completed"
    },
    "tags": []
   },
   "outputs": [],
   "source": [
    "groceries=groceries.reset_index()"
   ]
  },
  {
   "cell_type": "code",
   "execution_count": null,
   "id": "d5db6e29",
   "metadata": {
    "colab": {
     "base_uri": "https://localhost:8080/",
     "height": 423
    },
    "execution": {
     "iopub.execute_input": "2023-03-14T09:33:16.766516Z",
     "iopub.status.busy": "2023-03-14T09:33:16.765759Z",
     "iopub.status.idle": "2023-03-14T09:33:16.850774Z",
     "shell.execute_reply": "2023-03-14T09:33:16.849806Z"
    },
    "id": "d5db6e29",
    "outputId": "73dc26fe-dd5d-4dc6-b9f2-5498b7ffd272",
    "papermill": {
     "duration": 0.109429,
     "end_time": "2023-03-14T09:33:16.853091",
     "exception": false,
     "start_time": "2023-03-14T09:33:16.743662",
     "status": "completed"
    },
    "tags": []
   },
   "outputs": [],
   "source": [
    "temp5= groceries.groupby([pd.Grouper(key='Date',freq='D'),'Years','Months','Weekdays'],as_index=False).agg(UniqueCustomers=('Member_number','nunique'))\n",
    "temp5"
   ]
  },
  {
   "cell_type": "code",
   "execution_count": null,
   "id": "31797618",
   "metadata": {
    "colab": {
     "base_uri": "https://localhost:8080/",
     "height": 542
    },
    "execution": {
     "iopub.execute_input": "2023-03-14T09:33:16.896774Z",
     "iopub.status.busy": "2023-03-14T09:33:16.896322Z",
     "iopub.status.idle": "2023-03-14T09:33:17.068545Z",
     "shell.execute_reply": "2023-03-14T09:33:17.067322Z"
    },
    "id": "31797618",
    "outputId": "c4a287fc-58e6-47df-a061-e8878038d403",
    "papermill": {
     "duration": 0.197298,
     "end_time": "2023-03-14T09:33:17.071059",
     "exception": false,
     "start_time": "2023-03-14T09:33:16.873761",
     "status": "completed"
    },
    "tags": []
   },
   "outputs": [],
   "source": [
    "temp6=temp5.groupby(['Years','Weekdays'],as_index=False)[['UniqueCustomers']].mean()\n",
    "\n",
    "fig=px.bar(temp6,x='Weekdays',y='UniqueCustomers',color='Weekdays',facet_col='Years',\n",
    "          category_orders={'Weekdays':['Monday','Tuesday','Wednesday','Thursday','Friday','Saturday','Sunday']})\n",
    "fig.update_layout(title_text='Avg Number of Unique Customers Per Weekday',title_x=0.5,\n",
    "                 title={'font': {'size':20}},\n",
    "                 showlegend=False)\n",
    "fig.show()"
   ]
  },
  {
   "cell_type": "markdown",
   "id": "5507213d",
   "metadata": {
    "id": "5507213d",
    "papermill": {
     "duration": 0.020608,
     "end_time": "2023-03-14T09:33:17.112478",
     "exception": false,
     "start_time": "2023-03-14T09:33:17.091870",
     "status": "completed"
    },
    "tags": []
   },
   "source": [
    "**Across the board 2015 compared to 2014 has fewer average number of unique customers per weekday.**"
   ]
  },
  {
   "cell_type": "markdown",
   "id": "bb23b3bd",
   "metadata": {
    "id": "bb23b3bd",
    "papermill": {
     "duration": 0.020523,
     "end_time": "2023-03-14T09:33:17.154066",
     "exception": false,
     "start_time": "2023-03-14T09:33:17.133543",
     "status": "completed"
    },
    "tags": []
   },
   "source": [
    "### Customer Sales Per Weekday"
   ]
  },
  {
   "cell_type": "code",
   "execution_count": null,
   "id": "420b2114",
   "metadata": {
    "colab": {
     "base_uri": "https://localhost:8080/",
     "height": 423
    },
    "execution": {
     "iopub.execute_input": "2023-03-14T09:33:17.197710Z",
     "iopub.status.busy": "2023-03-14T09:33:17.197284Z",
     "iopub.status.idle": "2023-03-14T09:33:17.279810Z",
     "shell.execute_reply": "2023-03-14T09:33:17.278878Z"
    },
    "id": "420b2114",
    "outputId": "ceea3994-edd7-4346-b505-08681fc9bf67",
    "papermill": {
     "duration": 0.107046,
     "end_time": "2023-03-14T09:33:17.282019",
     "exception": false,
     "start_time": "2023-03-14T09:33:17.174973",
     "status": "completed"
    },
    "tags": []
   },
   "outputs": [],
   "source": [
    "temp6=groceries.groupby([pd.Grouper(key='Date',freq='D'),'Years','Weekdays'],as_index=False).agg(Sales=('itemDescription','count'),Customers=('Member_number','nunique'))\n",
    "temp6"
   ]
  },
  {
   "cell_type": "code",
   "execution_count": null,
   "id": "af0dcb82",
   "metadata": {
    "colab": {
     "base_uri": "https://localhost:8080/",
     "height": 542
    },
    "execution": {
     "iopub.execute_input": "2023-03-14T09:33:17.328393Z",
     "iopub.status.busy": "2023-03-14T09:33:17.327529Z",
     "iopub.status.idle": "2023-03-14T09:33:17.495497Z",
     "shell.execute_reply": "2023-03-14T09:33:17.494652Z"
    },
    "id": "af0dcb82",
    "outputId": "024bd771-d757-44df-aaa9-74a211567cdc",
    "papermill": {
     "duration": 0.193768,
     "end_time": "2023-03-14T09:33:17.498017",
     "exception": false,
     "start_time": "2023-03-14T09:33:17.304249",
     "status": "completed"
    },
    "tags": []
   },
   "outputs": [],
   "source": [
    "temp7=temp6.groupby(['Years','Weekdays'],as_index=False).agg(Sales=('Sales','sum'),Customers=('Customers','sum')).eval('SalesPerCustomer=Sales/Customers').drop(columns=['Sales','Customers'])\n",
    "\n",
    "fig=px.bar(temp7,x='Weekdays',y='SalesPerCustomer',color='Weekdays',facet_col='Years',\n",
    "      category_orders={'Weekdays':['Monday','Tuesday','Wednesday','Thursday','Friday','Saturday','Sunday']})\n",
    "\n",
    "fig.update_layout(title_text='Weekday Sales Per Customer',title_x=0.5,\n",
    "                 title={'font': {'size':20}},\n",
    "                 showlegend=False)\n",
    "\n",
    "\n",
    "fig.show()"
   ]
  }
 ],
 "metadata": {
  "colab": {
   "provenance": []
  },
  "kernelspec": {
   "display_name": "Python 3 (ipykernel)",
   "language": "python",
   "name": "python3"
  },
  "language_info": {
   "codemirror_mode": {
    "name": "ipython",
    "version": 3
   },
   "file_extension": ".py",
   "mimetype": "text/x-python",
   "name": "python",
   "nbconvert_exporter": "python",
   "pygments_lexer": "ipython3",
   "version": "3.9.13"
  },
  "papermill": {
   "default_parameters": {},
   "duration": 21.9776,
   "end_time": "2023-03-14T09:33:20.141393",
   "environment_variables": {},
   "exception": null,
   "input_path": "__notebook__.ipynb",
   "output_path": "__notebook__.ipynb",
   "parameters": {},
   "start_time": "2023-03-14T09:32:58.163793",
   "version": "2.3.4"
  }
 },
 "nbformat": 4,
 "nbformat_minor": 5
}
